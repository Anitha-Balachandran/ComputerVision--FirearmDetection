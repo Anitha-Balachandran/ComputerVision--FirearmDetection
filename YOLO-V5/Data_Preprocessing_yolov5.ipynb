{
  "cells": [
    {
      "cell_type": "markdown",
      "source": [
        "# **Dataset Preprocessing: COCO to YOLO Conversion and Train/Validation Organization**"
      ],
      "metadata": {
        "id": "LqQ_SVziidwN"
      }
    },
    {
      "cell_type": "code",
      "execution_count": null,
      "metadata": {
        "id": "az1wxNTNITzc",
        "colab": {
          "base_uri": "https://localhost:8080/"
        },
        "outputId": "c61f9e7b-6c9d-4393-a5d5-9a6f95057d18"
      },
      "outputs": [
        {
          "output_type": "stream",
          "name": "stdout",
          "text": [
            "Mounted at /content/drive\n"
          ]
        }
      ],
      "source": [
        "from google.colab import drive\n",
        "drive.mount('/content/drive')\n"
      ]
    },
    {
      "cell_type": "code",
      "source": [
        "cd /content/drive/MyDrive/output"
      ],
      "metadata": {
        "colab": {
          "base_uri": "https://localhost:8080/"
        },
        "id": "wpyLlCkg71oT",
        "outputId": "6253556e-3389-47f2-c47a-5698bf548fb2"
      },
      "execution_count": null,
      "outputs": [
        {
          "output_type": "stream",
          "name": "stdout",
          "text": [
            "/content/drive/MyDrive/output\n"
          ]
        }
      ]
    },
    {
      "cell_type": "code",
      "execution_count": null,
      "metadata": {
        "id": "DmABGii_MQes"
      },
      "outputs": [],
      "source": [
        "base_dir='/content/drive/MyDrive/gun_dataset'"
      ]
    },
    {
      "cell_type": "code",
      "execution_count": null,
      "metadata": {
        "id": "n1IjEMwOMdSi"
      },
      "outputs": [],
      "source": [
        "frames_base_dir = '/content/drive/MyDrive/preprocessing'"
      ]
    },
    {
      "cell_type": "code",
      "execution_count": null,
      "metadata": {
        "id": "UUVxJlHdM1cK"
      },
      "outputs": [],
      "source": [
        "import os\n",
        "import json\n",
        "import cv2"
      ]
    },
    {
      "cell_type": "markdown",
      "source": [
        "# **Converting COCO to YOLO Format and Extracting Frames from Videos**\n"
      ],
      "metadata": {
        "id": "dx545AN0g9Jm"
      }
    },
    {
      "cell_type": "code",
      "execution_count": null,
      "metadata": {
        "colab": {
          "base_uri": "https://localhost:8080/"
        },
        "id": "0Tsh2obrM--P",
        "outputId": "37260c07-c117-4c3a-9a48-7224a3692a7b"
      },
      "outputs": [
        {
          "output_type": "stream",
          "name": "stdout",
          "text": [
            "Processing video.mp4 in /content/drive/MyDrive/gun_dataset/Handgun/PAH1_C2_P3_V1_HB_1\n",
            "Processed video.mp4 in /content/drive/MyDrive/gun_dataset/Handgun/PAH1_C2_P3_V1_HB_1\n",
            "Processing video.mp4 in /content/drive/MyDrive/gun_dataset/Handgun/PAH1_C1_P1_V1_HB_4\n",
            "Processed video.mp4 in /content/drive/MyDrive/gun_dataset/Handgun/PAH1_C1_P1_V1_HB_4\n",
            "Processing video.mp4 in /content/drive/MyDrive/gun_dataset/Handgun/PAH1_C1_P2_V1_HB_3\n",
            "Processed video.mp4 in /content/drive/MyDrive/gun_dataset/Handgun/PAH1_C1_P2_V1_HB_3\n",
            "Processing video.mp4 in /content/drive/MyDrive/gun_dataset/Handgun/PAH1_C1_P2_V1_HB_1\n",
            "Processed video.mp4 in /content/drive/MyDrive/gun_dataset/Handgun/PAH1_C1_P2_V1_HB_1\n",
            "Processing video.mp4 in /content/drive/MyDrive/gun_dataset/Handgun/PAH1_C2_P3_V1_HB_3\n",
            "Processed video.mp4 in /content/drive/MyDrive/gun_dataset/Handgun/PAH1_C2_P3_V1_HB_3\n",
            "Processing video.mp4 in /content/drive/MyDrive/gun_dataset/Handgun/PAH1_C2_P3_V2_HB_3\n",
            "Processed video.mp4 in /content/drive/MyDrive/gun_dataset/Handgun/PAH1_C2_P3_V2_HB_3\n",
            "Processing video.mp4 in /content/drive/MyDrive/gun_dataset/Handgun/PAH1_C2_P3_V2_HB_2\n",
            "Processed video.mp4 in /content/drive/MyDrive/gun_dataset/Handgun/PAH1_C2_P3_V2_HB_2\n",
            "Processing video.mp4 in /content/drive/MyDrive/gun_dataset/Handgun/PAH1_C1_P4_V1_HB_2\n",
            "Processed video.mp4 in /content/drive/MyDrive/gun_dataset/Handgun/PAH1_C1_P4_V1_HB_2\n",
            "Processing video.mp4 in /content/drive/MyDrive/gun_dataset/Handgun/PAH1_C1_P4_V1_HB_1\n",
            "Processed video.mp4 in /content/drive/MyDrive/gun_dataset/Handgun/PAH1_C1_P4_V1_HB_1\n",
            "Processing video.mp4 in /content/drive/MyDrive/gun_dataset/Handgun/PAH1_C1_P1_V1_HB_3\n",
            "Processed video.mp4 in /content/drive/MyDrive/gun_dataset/Handgun/PAH1_C1_P1_V1_HB_3\n",
            "Processing video.mp4 in /content/drive/MyDrive/gun_dataset/Machine_Gun/PAW1_C1_P4_V1_HB_2\n",
            "Processed video.mp4 in /content/drive/MyDrive/gun_dataset/Machine_Gun/PAW1_C1_P4_V1_HB_2\n",
            "Processing video.mp4 in /content/drive/MyDrive/gun_dataset/Machine_Gun/PAW1_C1_P1_V1_HB_1\n",
            "Processed video.mp4 in /content/drive/MyDrive/gun_dataset/Machine_Gun/PAW1_C1_P1_V1_HB_1\n",
            "Processing video.mp4 in /content/drive/MyDrive/gun_dataset/Machine_Gun/PAW2_C1_P1_V1_HB_3\n",
            "Processed video.mp4 in /content/drive/MyDrive/gun_dataset/Machine_Gun/PAW2_C1_P1_V1_HB_3\n",
            "Processing video.mp4 in /content/drive/MyDrive/gun_dataset/Machine_Gun/PAW1_C2_P3_V1_HB_2\n",
            "Processed video.mp4 in /content/drive/MyDrive/gun_dataset/Machine_Gun/PAW1_C2_P3_V1_HB_2\n",
            "Processing video.mp4 in /content/drive/MyDrive/gun_dataset/Machine_Gun/PAW1_C1_P1_V1_HB_2\n",
            "Processed video.mp4 in /content/drive/MyDrive/gun_dataset/Machine_Gun/PAW1_C1_P1_V1_HB_2\n",
            "Processing video.mp4 in /content/drive/MyDrive/gun_dataset/Machine_Gun/PAW1_C2_P5_V4_HB_1\n",
            "Processed video.mp4 in /content/drive/MyDrive/gun_dataset/Machine_Gun/PAW1_C2_P5_V4_HB_1\n",
            "Processing video.mp4 in /content/drive/MyDrive/gun_dataset/Machine_Gun/PAW1_C2_P5_V3_HB_1\n",
            "Processed video.mp4 in /content/drive/MyDrive/gun_dataset/Machine_Gun/PAW1_C2_P5_V3_HB_1\n",
            "Processing video.mp4 in /content/drive/MyDrive/gun_dataset/Machine_Gun/PAW1_C2_P3_V2_HB_2\n",
            "Processed video.mp4 in /content/drive/MyDrive/gun_dataset/Machine_Gun/PAW1_C2_P3_V2_HB_2\n",
            "Processing video.mp4 in /content/drive/MyDrive/gun_dataset/Machine_Gun/PAW1_C1_P2_V1_HB_4\n",
            "Processed video.mp4 in /content/drive/MyDrive/gun_dataset/Machine_Gun/PAW1_C1_P2_V1_HB_4\n",
            "Processing video.mp4 in /content/drive/MyDrive/gun_dataset/Machine_Gun/PAW1_C1_P2_V1_HB_3\n",
            "Processed video.mp4 in /content/drive/MyDrive/gun_dataset/Machine_Gun/PAW1_C1_P2_V1_HB_3\n",
            "No class ID assigned for category No_Gun, skipping...\n"
          ]
        }
      ],
      "source": [
        "category_to_class_id = {\n",
        "    'handgun': 0,     # Assuming subfolder named 'handgun'\n",
        "    'machine_gun': 1  # Assuming subfolder named 'machine_gun'\n",
        "}\n",
        "\n",
        "# Ensure the frames base directory exists\n",
        "if not os.path.exists(frames_base_dir):\n",
        "    os.makedirs(frames_base_dir)\n",
        "\n",
        "# Function to convert bbox from COCO to YOLO format (x_center, y_center, width, height)\n",
        "def convert_to_yolo_format(bbox, img_width, img_height):\n",
        "    x_center = (bbox[0] + bbox[2] / 2) / img_width\n",
        "    y_center = (bbox[1] + bbox[3] / 2) / img_height\n",
        "    width = bbox[2] / img_width\n",
        "    height = bbox[3] / img_height\n",
        "    return x_center, y_center, width, height\n",
        "\n",
        "# Function to extract frames and save annotations in YOLO format\n",
        "def extract_frames_and_annotations(video_path, labels_path, frames_dir, class_id):\n",
        "    # Load annotations\n",
        "    with open(labels_path, 'r') as f:\n",
        "        annotations = json.load(f)['annotations']\n",
        "\n",
        "    cap = cv2.VideoCapture(video_path)\n",
        "    frame_id = 0\n",
        "    while True:\n",
        "        ret, frame = cap.read()\n",
        "        if not ret:\n",
        "            break\n",
        "\n",
        "        frame_path = os.path.join(frames_dir, f'frame_{frame_id}.jpg')\n",
        "        cv2.imwrite(frame_path, frame)\n",
        "\n",
        "        # Save YOLO annotations for each frame\n",
        "        with open(os.path.join(frames_dir, f'frame_{frame_id}.txt'), 'w') as f:\n",
        "            frame_annotations = [ann for ann in annotations if ann['image_id'] == frame_id + 1]\n",
        "            for ann in frame_annotations:\n",
        "                yolo_bbox = convert_to_yolo_format(ann['bbox'], frame.shape[1], frame.shape[0])\n",
        "                f.write(f\"{class_id} {yolo_bbox[0]} {yolo_bbox[1]} {yolo_bbox[2]} {yolo_bbox[3]}\\n\")\n",
        "\n",
        "        frame_id += 1\n",
        "    cap.release()\n",
        "\n",
        "# Function to iterate over subfolders and process each video and label file\n",
        "def process_folders(base_dir, frames_base_dir, category_to_class_id):\n",
        "    for category in os.listdir(base_dir):\n",
        "        category_path = os.path.join(base_dir, category)\n",
        "        if os.path.isdir(category_path):\n",
        "            class_id = category_to_class_id.get(category.lower())\n",
        "            if class_id is None:\n",
        "                print(f\"No class ID assigned for category {category}, skipping...\")\n",
        "                continue\n",
        "\n",
        "            for subfolder in os.listdir(category_path):\n",
        "                subfolder_path = os.path.join(category_path, subfolder)\n",
        "                if os.path.isdir(subfolder_path):\n",
        "                    video_file = next((f for f in os.listdir(subfolder_path) if f.endswith('.mp4')), None)\n",
        "                    label_file = next((f for f in os.listdir(subfolder_path) if f.endswith('.json')), None)\n",
        "\n",
        "                    if video_file and label_file:\n",
        "                        video_path = os.path.join(subfolder_path, video_file)\n",
        "                        labels_path = os.path.join(subfolder_path, label_file)\n",
        "                        frames_dir = os.path.join(frames_base_dir, category, subfolder)\n",
        "\n",
        "                        if not os.path.exists(frames_dir):\n",
        "                            os.makedirs(frames_dir)\n",
        "\n",
        "                        print(f\"Processing {video_file} in {subfolder_path}\")  # Add this line for debugging\n",
        "\n",
        "                        # Extract frames and save annotations\n",
        "                        extract_frames_and_annotations(video_path, labels_path, frames_dir, class_id)\n",
        "                        print(f'Processed {video_file} in {subfolder_path}')\n",
        "                    else:\n",
        "                        print(f\"Skipping {subfolder_path}: Video file or label file not found\")\n",
        "# Run the process\n",
        "process_folders(base_dir, frames_base_dir, category_to_class_id)"
      ]
    },
    {
      "cell_type": "code",
      "source": [
        "cd /content/drive/MyDrive/preprocessing"
      ],
      "metadata": {
        "colab": {
          "base_uri": "https://localhost:8080/"
        },
        "id": "uIV0etE_Ut_6",
        "outputId": "778c192b-38a2-474b-b8c8-6d7b9e824444"
      },
      "execution_count": null,
      "outputs": [
        {
          "output_type": "stream",
          "name": "stdout",
          "text": [
            "/content/drive/MyDrive/preprocessing\n"
          ]
        }
      ]
    },
    {
      "cell_type": "code",
      "source": [
        "ls"
      ],
      "metadata": {
        "colab": {
          "base_uri": "https://localhost:8080/"
        },
        "id": "r6SBfEBoU0Uu",
        "outputId": "5a28ed85-e15e-4c95-e111-eef70f36c6fd"
      },
      "execution_count": null,
      "outputs": [
        {
          "output_type": "stream",
          "name": "stdout",
          "text": [
            "\u001b[0m\u001b[01;34mHandgun\u001b[0m/  \u001b[01;34mMachine_Gun\u001b[0m/\n"
          ]
        }
      ]
    },
    {
      "cell_type": "markdown",
      "source": [
        "# **Streamlining Dataset Preparation: Train and Validation Folder Organization (Clear output is printed, with files renamed for having unique names and organized in train/val folders. Please refer to base_yolo.ipynb for details)**"
      ],
      "metadata": {
        "id": "rdzoOvXGhxXU"
      }
    },
    {
      "cell_type": "code",
      "execution_count": null,
      "metadata": {
        "id": "WLIBHnhWYuCM"
      },
      "outputs": [],
      "source": [
        "import os\n",
        "import shutil\n",
        "\n",
        "def process_dataset(dataset_path, output_path):\n",
        "    # Create folders for train and val if they don't exist\n",
        "    train_output_images_folder = os.path.join(output_path, \"train\", \"images\")\n",
        "    train_output_labels_folder = os.path.join(output_path, \"train\", \"labels\")\n",
        "    val_output_images_folder = os.path.join(output_path, \"val\", \"images\")\n",
        "    val_output_labels_folder = os.path.join(output_path, \"val\", \"labels\")\n",
        "    os.makedirs(train_output_images_folder, exist_ok=True)\n",
        "    os.makedirs(train_output_labels_folder, exist_ok=True)\n",
        "    os.makedirs(val_output_images_folder, exist_ok=True)\n",
        "    os.makedirs(val_output_labels_folder, exist_ok=True)\n",
        "\n",
        "    # Process train folder\n",
        "    train_folder_path = os.path.join(dataset_path, \"train\")\n",
        "    if os.path.exists(train_folder_path):\n",
        "        process_folder(train_folder_path, train_output_images_folder, train_output_labels_folder)\n",
        "\n",
        "    # Process val folder\n",
        "    val_folder_path = os.path.join(dataset_path, \"val\")\n",
        "    if os.path.exists(val_folder_path):\n",
        "        process_folder(val_folder_path, val_output_images_folder, val_output_labels_folder)\n",
        "\n",
        "def process_folder(folder_path, output_images_folder, output_labels_folder):\n",
        "    # Process each subfolder containing images and labels\n",
        "    for subfolder in os.listdir(folder_path):\n",
        "        subfolder_path = os.path.join(folder_path, subfolder)\n",
        "\n",
        "        # Initialize lists to store image and label files\n",
        "        image_files = []\n",
        "        label_files = []\n",
        "\n",
        "        # Collect image and label files\n",
        "        for file in os.listdir(subfolder_path):\n",
        "            file_path = os.path.join(subfolder_path, file)\n",
        "            if file.endswith('.jpg'):\n",
        "                image_files.append(file_path)\n",
        "            elif file.endswith('.txt'):\n",
        "                label_files.append(file_path)\n",
        "\n",
        "        # Copy image files to output images folder\n",
        "        for image_file in image_files:\n",
        "            image_dst = os.path.join(output_images_folder, f\"{subfolder}_{os.path.basename(image_file)}\")\n",
        "            shutil.copy(image_file, image_dst)\n",
        "\n",
        "        # Copy label files to output labels folder\n",
        "        for label_file in label_files:\n",
        "            label_dst = os.path.join(output_labels_folder, f\"{subfolder}_{os.path.basename(label_file)}\")\n",
        "            shutil.copy(label_file, label_dst)\n",
        "\n",
        "# Example usage:\n",
        "dataset_folder = \"/content/drive/MyDrive/output\"\n",
        "output_folder = \"/content/drive/MyDrive/dataset\"\n",
        "process_dataset(dataset_folder, output_folder)\n"
      ]
    }
  ],
  "metadata": {
    "colab": {
      "machine_shape": "hm",
      "provenance": [],
      "gpuType": "T4"
    },
    "kernelspec": {
      "display_name": "Python 3",
      "name": "python3"
    },
    "language_info": {
      "name": "python"
    },
    "accelerator": "GPU"
  },
  "nbformat": 4,
  "nbformat_minor": 0
}